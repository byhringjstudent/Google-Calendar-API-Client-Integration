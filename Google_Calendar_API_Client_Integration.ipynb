{
  "nbformat": 4,
  "nbformat_minor": 0,
  "metadata": {
    "colab": {
      "provenance": []
    },
    "kernelspec": {
      "name": "python3",
      "display_name": "Python 3"
    },
    "language_info": {
      "name": "python"
    }
  },
  "cells": [
    {
      "cell_type": "code",
      "execution_count": null,
      "metadata": {
        "id": "82-UHUOHMkTe"
      },
      "outputs": [],
      "source": [
        "# Prerequisites:\n",
        "\n",
        "# Python 3.10.7\n",
        "# The pip package management tool\n",
        "# A Google Cloud project\n",
        "# A Google account with Google Calendar enabled\n",
        "\n",
        "from googleapiclient.discovery import build\n",
        "import datetime"
      ]
    },
    {
      "cell_type": "code",
      "source": [
        "# Google Calendar API enabled and Google Slides API enabled\n",
        "# Create credentials for authentication with the Google API\n",
        "# OAuth 2.0 Client ID Authentication - OAuth dance\n",
        "\n",
        "# To access and integrate cloud services with Web Services we will also\n",
        "# create a Service Account, which is useful for TCP and UDP Streamside server-to-server endpoint communication\n",
        "\n",
        "# In our code, we create the API Object\n",
        "calendar_service = build('calendar', 'v3', credentials=)\n",
        "\n",
        ")"
      ],
      "metadata": {
        "id": "tq8f6vvWN0Fm"
      },
      "execution_count": null,
      "outputs": []
    },
    {
      "cell_type": "code",
      "source": [
        "# Package installation for jupyter-client\n",
        "# for access to our keys within our environment\n",
        "# and safe storage in a file.\n",
        "\n",
        "%%writefile keys.py"
      ],
      "metadata": {
        "colab": {
          "base_uri": "https://localhost:8080/"
        },
        "id": "29nRXYlYYfeQ",
        "outputId": "1d89fe7b-89d6-4106-dad8-3ea94b34d26a"
      },
      "execution_count": null,
      "outputs": [
        {
          "output_type": "stream",
          "name": "stdout",
          "text": [
            "Writing keys.py\n"
          ]
        }
      ]
    }
  ]
}