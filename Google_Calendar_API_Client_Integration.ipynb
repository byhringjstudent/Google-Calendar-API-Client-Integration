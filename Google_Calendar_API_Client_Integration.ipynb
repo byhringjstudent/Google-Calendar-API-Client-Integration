{
  "cells": [
    {
      "cell_type": "code",
      "execution_count": null,
      "metadata": {
        "id": "tq8f6vvWN0Fm"
      },
      "outputs": [],
      "source": [
        "# Google Calendar API enabled and Google Slides API enabled\n",
        "# Create credentials for authentication with the Google API\n",
        "# OAuth 2.0 Client ID Authentication - OAuth dance\n",
        "\n",
        "# To access and integrate cloud services with Web Services we will also\n",
        "# create a Service Account, which is useful for TCP and UDP Streamside server-to-server endpoint communication\n",
        "\n",
        "# In our code, we create the API Object"
      ]
    },
    {
      "cell_type": "code",
      "execution_count": null,
      "metadata": {
        "id": "D_CmbyRyes50"
      },
      "outputs": [],
      "source": [
        "from googleapiclient.discovery import build\n",
        "from google_auth_oauthlib.flow import InstalledAppFlow\n",
        "import datetime"
      ]
    },
    {
      "cell_type": "code",
      "execution_count": null,
      "metadata": {
        "id": "nuFKCH9Hex9u"
      },
      "outputs": [],
      "source": [
        "# Define OAuth scopes\n",
        "SCOPES = ['https://www.googleapis.com/auth/calendar',\n",
        "          'https://www.googleapis.com/auth/presentations']"
      ]
    },
    {
      "cell_type": "code",
      "execution_count": null,
      "metadata": {
        "colab": {
          "base_uri": "https://localhost:8080/"
        },
        "collapsed": true,
        "id": "p9mH_XpyghH7",
        "outputId": "3092b822-b096-4149-cea0-c2f3496ffbca"
      },
      "outputs": [
        {
          "output_type": "stream",
          "name": "stdout",
          "text": [
            "Requirement already satisfied: google-api-python-client in /usr/local/lib/python3.10/dist-packages (2.154.0)\n",
            "Requirement already satisfied: google-auth-httplib2 in /usr/local/lib/python3.10/dist-packages (0.2.0)\n",
            "Requirement already satisfied: google-auth-oauthlib in /usr/local/lib/python3.10/dist-packages (1.2.1)\n",
            "Requirement already satisfied: httplib2<1.dev0,>=0.19.0 in /usr/local/lib/python3.10/dist-packages (from google-api-python-client) (0.22.0)\n",
            "Requirement already satisfied: google-auth!=2.24.0,!=2.25.0,<3.0.0.dev0,>=1.32.0 in /usr/local/lib/python3.10/dist-packages (from google-api-python-client) (2.27.0)\n",
            "Requirement already satisfied: google-api-core!=2.0.*,!=2.1.*,!=2.2.*,!=2.3.0,<3.0.0.dev0,>=1.31.5 in /usr/local/lib/python3.10/dist-packages (from google-api-python-client) (2.19.2)\n",
            "Requirement already satisfied: uritemplate<5,>=3.0.1 in /usr/local/lib/python3.10/dist-packages (from google-api-python-client) (4.1.1)\n",
            "Requirement already satisfied: requests-oauthlib>=0.7.0 in /usr/local/lib/python3.10/dist-packages (from google-auth-oauthlib) (1.3.1)\n",
            "Requirement already satisfied: googleapis-common-protos<2.0.dev0,>=1.56.2 in /usr/local/lib/python3.10/dist-packages (from google-api-core!=2.0.*,!=2.1.*,!=2.2.*,!=2.3.0,<3.0.0.dev0,>=1.31.5->google-api-python-client) (1.66.0)\n",
            "Requirement already satisfied: protobuf!=3.20.0,!=3.20.1,!=4.21.0,!=4.21.1,!=4.21.2,!=4.21.3,!=4.21.4,!=4.21.5,<6.0.0.dev0,>=3.19.5 in /usr/local/lib/python3.10/dist-packages (from google-api-core!=2.0.*,!=2.1.*,!=2.2.*,!=2.3.0,<3.0.0.dev0,>=1.31.5->google-api-python-client) (4.25.5)\n",
            "Requirement already satisfied: proto-plus<2.0.0dev,>=1.22.3 in /usr/local/lib/python3.10/dist-packages (from google-api-core!=2.0.*,!=2.1.*,!=2.2.*,!=2.3.0,<3.0.0.dev0,>=1.31.5->google-api-python-client) (1.25.0)\n",
            "Requirement already satisfied: requests<3.0.0.dev0,>=2.18.0 in /usr/local/lib/python3.10/dist-packages (from google-api-core!=2.0.*,!=2.1.*,!=2.2.*,!=2.3.0,<3.0.0.dev0,>=1.31.5->google-api-python-client) (2.32.3)\n",
            "Requirement already satisfied: cachetools<6.0,>=2.0.0 in /usr/local/lib/python3.10/dist-packages (from google-auth!=2.24.0,!=2.25.0,<3.0.0.dev0,>=1.32.0->google-api-python-client) (5.5.0)\n",
            "Requirement already satisfied: pyasn1-modules>=0.2.1 in /usr/local/lib/python3.10/dist-packages (from google-auth!=2.24.0,!=2.25.0,<3.0.0.dev0,>=1.32.0->google-api-python-client) (0.4.1)\n",
            "Requirement already satisfied: rsa<5,>=3.1.4 in /usr/local/lib/python3.10/dist-packages (from google-auth!=2.24.0,!=2.25.0,<3.0.0.dev0,>=1.32.0->google-api-python-client) (4.9)\n",
            "Requirement already satisfied: pyparsing!=3.0.0,!=3.0.1,!=3.0.2,!=3.0.3,<4,>=2.4.2 in /usr/local/lib/python3.10/dist-packages (from httplib2<1.dev0,>=0.19.0->google-api-python-client) (3.2.0)\n",
            "Requirement already satisfied: oauthlib>=3.0.0 in /usr/local/lib/python3.10/dist-packages (from requests-oauthlib>=0.7.0->google-auth-oauthlib) (3.2.2)\n",
            "Requirement already satisfied: pyasn1<0.7.0,>=0.4.6 in /usr/local/lib/python3.10/dist-packages (from pyasn1-modules>=0.2.1->google-auth!=2.24.0,!=2.25.0,<3.0.0.dev0,>=1.32.0->google-api-python-client) (0.6.1)\n",
            "Requirement already satisfied: charset-normalizer<4,>=2 in /usr/local/lib/python3.10/dist-packages (from requests<3.0.0.dev0,>=2.18.0->google-api-core!=2.0.*,!=2.1.*,!=2.2.*,!=2.3.0,<3.0.0.dev0,>=1.31.5->google-api-python-client) (3.4.0)\n",
            "Requirement already satisfied: idna<4,>=2.5 in /usr/local/lib/python3.10/dist-packages (from requests<3.0.0.dev0,>=2.18.0->google-api-core!=2.0.*,!=2.1.*,!=2.2.*,!=2.3.0,<3.0.0.dev0,>=1.31.5->google-api-python-client) (3.10)\n",
            "Requirement already satisfied: urllib3<3,>=1.21.1 in /usr/local/lib/python3.10/dist-packages (from requests<3.0.0.dev0,>=2.18.0->google-api-core!=2.0.*,!=2.1.*,!=2.2.*,!=2.3.0,<3.0.0.dev0,>=1.31.5->google-api-python-client) (2.2.3)\n",
            "Requirement already satisfied: certifi>=2017.4.17 in /usr/local/lib/python3.10/dist-packages (from requests<3.0.0.dev0,>=2.18.0->google-api-core!=2.0.*,!=2.1.*,!=2.2.*,!=2.3.0,<3.0.0.dev0,>=1.31.5->google-api-python-client) (2024.8.30)\n"
          ]
        }
      ],
      "source": [
        "!pip install --upgrade google-api-python-client google-auth-httplib2 google-auth-oauthlib"
      ]
    },
    {
      "cell_type": "code",
      "execution_count": null,
      "metadata": {
        "id": "11RkPjTAgxzn",
        "colab": {
          "base_uri": "https://localhost:8080/",
          "height": 176
        },
        "collapsed": true,
        "outputId": "e12fbb69-cb34-4c99-fd80-d4fac2e73476"
      },
      "outputs": [
        {
          "output_type": "error",
          "ename": "NameError",
          "evalue": "name 'credentials' is not defined",
          "traceback": [
            "\u001b[0;31m---------------------------------------------------------------------------\u001b[0m",
            "\u001b[0;31mNameError\u001b[0m                                 Traceback (most recent call last)",
            "\u001b[0;32m<ipython-input-5-8367f7083be0>\u001b[0m in \u001b[0;36m<cell line: 4>\u001b[0;34m()\u001b[0m\n\u001b[1;32m      3\u001b[0m \u001b[0;31m# created with 'w' mode for write\u001b[0m\u001b[0;34m\u001b[0m\u001b[0;34m\u001b[0m\u001b[0m\n\u001b[1;32m      4\u001b[0m \u001b[0;32mwith\u001b[0m \u001b[0mopen\u001b[0m\u001b[0;34m(\u001b[0m\u001b[0;34m'credentials.json'\u001b[0m\u001b[0;34m,\u001b[0m \u001b[0;34m'w'\u001b[0m\u001b[0;34m)\u001b[0m \u001b[0;32mas\u001b[0m \u001b[0mf\u001b[0m\u001b[0;34m:\u001b[0m\u001b[0;34m\u001b[0m\u001b[0;34m\u001b[0m\u001b[0m\n\u001b[0;32m----> 5\u001b[0;31m   \u001b[0mf\u001b[0m\u001b[0;34m.\u001b[0m\u001b[0mwrite\u001b[0m\u001b[0;34m(\u001b[0m\u001b[0mcredentials\u001b[0m\u001b[0;34m.\u001b[0m\u001b[0mjson\u001b[0m\u001b[0;34m(\u001b[0m\u001b[0;34m)\u001b[0m\u001b[0;34m)\u001b[0m\u001b[0;34m\u001b[0m\u001b[0;34m\u001b[0m\u001b[0m\n\u001b[0m",
            "\u001b[0;31mNameError\u001b[0m: name 'credentials' is not defined"
          ]
        }
      ],
      "source": [
        "# Writing to a text file using with statement\n",
        "# built in function using open to open the file + name of the file\n",
        "# created with 'w' mode for write\n",
        "with open('credentials.json', 'w') as f:\n",
        "  f.write(credentials.json())"
      ]
    },
    {
      "source": [
        "!pip install --upgrade google-auth-oauthlib==0.4.6"
      ],
      "cell_type": "code",
      "metadata": {
        "collapsed": true,
        "colab": {
          "base_uri": "https://localhost:8080/",
          "height": 532
        },
        "id": "5iHk_WDYF9Zz",
        "outputId": "a5e9eb7b-a243-496b-84b6-9e6066243f34"
      },
      "execution_count": null,
      "outputs": [
        {
          "output_type": "stream",
          "name": "stdout",
          "text": [
            "Collecting google-auth-oauthlib==0.4.6\n",
            "  Using cached google_auth_oauthlib-0.4.6-py2.py3-none-any.whl.metadata (2.7 kB)\n",
            "Requirement already satisfied: google-auth>=1.0.0 in /usr/local/lib/python3.10/dist-packages (from google-auth-oauthlib==0.4.6) (2.27.0)\n",
            "Requirement already satisfied: requests-oauthlib>=0.7.0 in /usr/local/lib/python3.10/dist-packages (from google-auth-oauthlib==0.4.6) (1.3.1)\n",
            "Requirement already satisfied: cachetools<6.0,>=2.0.0 in /usr/local/lib/python3.10/dist-packages (from google-auth>=1.0.0->google-auth-oauthlib==0.4.6) (5.5.0)\n",
            "Requirement already satisfied: pyasn1-modules>=0.2.1 in /usr/local/lib/python3.10/dist-packages (from google-auth>=1.0.0->google-auth-oauthlib==0.4.6) (0.4.1)\n",
            "Requirement already satisfied: rsa<5,>=3.1.4 in /usr/local/lib/python3.10/dist-packages (from google-auth>=1.0.0->google-auth-oauthlib==0.4.6) (4.9)\n",
            "Requirement already satisfied: oauthlib>=3.0.0 in /usr/local/lib/python3.10/dist-packages (from requests-oauthlib>=0.7.0->google-auth-oauthlib==0.4.6) (3.2.2)\n",
            "Requirement already satisfied: requests>=2.0.0 in /usr/local/lib/python3.10/dist-packages (from requests-oauthlib>=0.7.0->google-auth-oauthlib==0.4.6) (2.32.3)\n",
            "Requirement already satisfied: pyasn1<0.7.0,>=0.4.6 in /usr/local/lib/python3.10/dist-packages (from pyasn1-modules>=0.2.1->google-auth>=1.0.0->google-auth-oauthlib==0.4.6) (0.6.1)\n",
            "Requirement already satisfied: charset-normalizer<4,>=2 in /usr/local/lib/python3.10/dist-packages (from requests>=2.0.0->requests-oauthlib>=0.7.0->google-auth-oauthlib==0.4.6) (3.4.0)\n",
            "Requirement already satisfied: idna<4,>=2.5 in /usr/local/lib/python3.10/dist-packages (from requests>=2.0.0->requests-oauthlib>=0.7.0->google-auth-oauthlib==0.4.6) (3.10)\n",
            "Requirement already satisfied: urllib3<3,>=1.21.1 in /usr/local/lib/python3.10/dist-packages (from requests>=2.0.0->requests-oauthlib>=0.7.0->google-auth-oauthlib==0.4.6) (2.2.3)\n",
            "Requirement already satisfied: certifi>=2017.4.17 in /usr/local/lib/python3.10/dist-packages (from requests>=2.0.0->requests-oauthlib>=0.7.0->google-auth-oauthlib==0.4.6) (2024.8.30)\n",
            "Using cached google_auth_oauthlib-0.4.6-py2.py3-none-any.whl (18 kB)\n",
            "Installing collected packages: google-auth-oauthlib\n",
            "  Attempting uninstall: google-auth-oauthlib\n",
            "    Found existing installation: google-auth-oauthlib 1.2.1\n",
            "    Uninstalling google-auth-oauthlib-1.2.1:\n",
            "      Successfully uninstalled google-auth-oauthlib-1.2.1\n",
            "\u001b[31mERROR: pip's dependency resolver does not currently take into account all the packages that are installed. This behaviour is the source of the following dependency conflicts.\n",
            "pandas-gbq 0.24.0 requires google-auth-oauthlib>=0.7.0, but you have google-auth-oauthlib 0.4.6 which is incompatible.\u001b[0m\u001b[31m\n",
            "\u001b[0mSuccessfully installed google-auth-oauthlib-0.4.6\n"
          ]
        },
        {
          "output_type": "display_data",
          "data": {
            "application/vnd.colab-display-data+json": {
              "pip_warning": {
                "packages": [
                  "google_auth_oauthlib"
                ]
              },
              "id": "3c8a3ee9d53c4b45964dc8d22b6f080d"
            }
          },
          "metadata": {}
        }
      ]
    },
    {
      "cell_type": "code",
      "execution_count": null,
      "metadata": {
        "id": "xDuuimNVgvdE",
        "colab": {
          "base_uri": "https://localhost:8080/"
        },
        "outputId": "6d342125-7e27-4075-ce20-0044d2fde378"
      },
      "outputs": [
        {
          "name": "stdout",
          "output_type": "stream",
          "text": [
            "Please visit this URL to authorize this application: https://accounts.google.com/o/oauth2/auth?response_type=code&client_id=36867565727-jk71o7jtu1rbn68kv0kt2qi4l2cpkfnv.apps.googleusercontent.com&redirect_uri=urn%3Aietf%3Awg%3Aoauth%3A2.0%3Aoob&scope=https%3A%2F%2Fwww.googleapis.com%2Fauth%2Fcalendar+https%3A%2F%2Fwww.googleapis.com%2Fauth%2Fpresentations&state=g1kAbZ6tuepYC1Qmxuyl1xvNTfq04z&prompt=consent&access_type=offline\n",
            "Enter the authorization code: 4/1AeanS0anpVjuwcCmH1kSLAlzoc502frftzYT4hpTAMv5jCwqP8cotmo3dPc\n"
          ]
        }
      ],
      "source": [
        "# Access to webbrowser for use of internal user requests from the Desktop App\n",
        "import webbrowser\n",
        "from google_auth_oauthlib.flow import InstalledAppFlow\n",
        "\n",
        "# Set your desired browser\n",
        "webbrowser.register('firefox', None, webbrowser.BackgroundBrowser('/path/to/firefox'))\n",
        "SCOPES = ['https://www.googleapis.com/auth/calendar', 'https://www.googleapis.com/auth/presentations']\n",
        "flow = InstalledAppFlow.from_client_secrets_file('credentials.json', SCOPES)\n",
        "\n",
        "# Start the OAuth flow\n",
        "#credentials = flow.run_local_server(port=80)\n",
        "credentials = flow.run_console()"
      ]
    },
    {
      "cell_type": "code",
      "execution_count": null,
      "metadata": {
        "id": "i0wbsgHeiBdm"
      },
      "outputs": [],
      "source": [
        "from googleapiclient.discovery import build\n",
        "from datetime import datetime, timezone"
      ]
    },
    {
      "source": [
        "# ipython-input-3-a18a98a1613b\n",
        "# Function to fetch upcoming events\n",
        "def get_upcoming_events(credentials, max_results=20):\n",
        "    # Initialize the Calendar API client\n",
        "    calendar_service = build('calendar', 'v3', credentials=credentials)\n",
        "    return calendar_service # Return the calendar_service object"
      ],
      "cell_type": "code",
      "metadata": {
        "id": "TNZON6ZVJmiV"
      },
      "execution_count": null,
      "outputs": []
    },
    {
      "cell_type": "code",
      "source": [
        "# Get the current time in RFC3339 format\n",
        "time_min = datetime.now(timezone.utc).isoformat()\n",
        "\n",
        "calendar_service = build('calendar', 'v3', credentials=credentials)\n",
        "max_results = 15"
      ],
      "metadata": {
        "id": "g7mJTDNCJMup"
      },
      "execution_count": null,
      "outputs": []
    },
    {
      "cell_type": "code",
      "source": [
        "# Fetch events from the primary calendar\n",
        "events_result = calendar_service.events().list(\n",
        "        calendarId='primary',         # Use the primary calendar\n",
        "        timeMin=time_min,             # Fetch events from this point in time\n",
        "        maxResults=max_results,       # Number of events to fetch\n",
        "        singleEvents=True,            # Expand recurring events into single instances\n",
        "        orderBy='startTime'           # Sort events by start time\n",
        "    ).execute()"
      ],
      "metadata": {
        "id": "EF5VU54MJRY2"
      },
      "execution_count": null,
      "outputs": []
    },
    {
      "cell_type": "code",
      "source": [
        "# Get the list of events\n",
        "events = events_result.get('items', [])\n",
        "if not events:\n",
        "    print('No upcoming events found.')"
      ],
      "metadata": {
        "id": "IdHlMKg4J9nP"
      },
      "execution_count": null,
      "outputs": []
    },
    {
      "cell_type": "code",
      "source": [
        "# Print event details\n",
        "print(\"Upcoming Events:\")\n",
        "for event in events:\n",
        "        # Get event details\n",
        "        title = event.get('summary', 'No Title')\n",
        "        start = event['start'].get('dateTime', event['start'].get('date'))  # Handles all-day events\n",
        "        location = event.get('location', 'No Location')"
      ],
      "metadata": {
        "colab": {
          "base_uri": "https://localhost:8080/"
        },
        "id": "mDCyVLxjKVHp",
        "outputId": "9ee26752-ddd6-495e-9cfd-1ce8cc26ee0e"
      },
      "execution_count": null,
      "outputs": [
        {
          "output_type": "stream",
          "name": "stdout",
          "text": [
            "Upcoming Events:\n"
          ]
        }
      ]
    },
    {
      "cell_type": "code",
      "source": [
        "# Print to console\n",
        "print(f\"Event: {title}\")\n",
        "print(f\"  Start: {start}\")\n",
        "print(f\"  Location: {location}\")\n",
        "print()"
      ],
      "metadata": {
        "colab": {
          "base_uri": "https://localhost:8080/"
        },
        "id": "vx3rQdryKhCC",
        "outputId": "81b113ac-ddb9-4a32-86e9-f48ba785eacf"
      },
      "execution_count": null,
      "outputs": [
        {
          "output_type": "stream",
          "name": "stdout",
          "text": [
            "Event: Member Meetup\n",
            "  Start: 2025-05-28T09:30:00-05:00\n",
            "  Location: 535 Duane St, Glen Ellyn, IL 60137, USA\n",
            "\n"
          ]
        }
      ]
    },
    {
      "cell_type": "code",
      "source": [
        "import datetime\n",
        "\n",
        "def get_upcoming_events(credentials, max_results=10):\n",
        "    # Initialize the Calendar API client\n",
        "    calendar_service = build('calendar', 'v3', credentials=credentials)\n",
        "\n",
        "    # Get the current time in RFC3339 format\n",
        "    time_min = datetime.datetime.utcnow().isoformat() + 'Z'\n",
        "\n",
        "    # Fetch events from the primary calendar\n",
        "    events_result = calendar_service.events().list(\n",
        "        calendarId='primary',\n",
        "        timeMin=time_min,\n",
        "        maxResults=max_results,\n",
        "        singleEvents=True,\n",
        "        orderBy='startTime'\n",
        "    ).execute()\n",
        "\n",
        "    # Get the list of events\n",
        "    events = events_result.get('items', [])\n",
        "    if not events:\n",
        "        print(\"No upcoming events found.\")\n",
        "        return []\n",
        "\n",
        "    # Print event details\n",
        "    print(\"Upcoming Events:\")\n",
        "    for event in events:\n",
        "        title = event.get('summary', 'No Title')\n",
        "        start = event['start'].get('dateTime', event['start'].get('date'))\n",
        "        location = event.get('location', 'No Location')\n",
        "        print(f\"Event: {title}, Start: {start}, Location: {location}\")\n",
        "\n",
        "    return events"
      ],
      "metadata": {
        "id": "Uvdlojv4LXFB"
      },
      "execution_count": null,
      "outputs": []
    },
    {
      "cell_type": "code",
      "source": [
        "def create_presentation(credentials, title='Event Presentation'):\n",
        "    slides_service = build('slides', 'v1', credentials=credentials)\n",
        "    presentation = slides_service.presentations().create(body={'title': title}).execute()\n",
        "    print(f\"Created presentation with ID: {presentation.get('presentationId')}\")\n",
        "    return presentation.get('presentationId')\n",
        "\n",
        "def add_event_slides(credentials, presentation_id, events):\n",
        "    slides_service = build('slides', 'v1', credentials=credentials)\n",
        "\n",
        "    for idx, event in enumerate(events, start=1):\n",
        "        event_title = event.get('summary', 'No Title')\n",
        "        event_time = event['start'].get('dateTime', event['start'].get('date'))\n",
        "        event_location = event.get('location', 'No Location')\n",
        "\n",
        "        print(f\"Processing Event {idx}: {event_title} at {event_time}, Location: {event_location}\")\n",
        "\n",
        "        # Step 1: Create a new slide\n",
        "        create_slide_request = [\n",
        "            {\n",
        "                'createSlide': {\n",
        "                    'slideLayoutReference': {\n",
        "                        'predefinedLayout': 'TITLE_AND_BODY'\n",
        "                    }\n",
        "                }\n",
        "            }\n",
        "        ]\n",
        "        create_slide_response = slides_service.presentations().batchUpdate(\n",
        "            presentationId=presentation_id,\n",
        "            body={'requests': create_slide_request}\n",
        "        ).execute()\n",
        "\n",
        "        # Retrieve the slide object ID\n",
        "        slide_object_id = create_slide_response['replies'][0]['createSlide']['objectId']\n",
        "        print(f\"Slide created with Object ID: {slide_object_id}\")\n",
        "\n",
        "        # Step 2: Retrieve page elements for the slide\n",
        "        slide = slides_service.presentations().pages().get(\n",
        "            presentationId=presentation_id, pageObjectId=slide_object_id\n",
        "        ).execute()\n",
        "\n",
        "        # Step 3: Extract title and body text box object IDs\n",
        "        page_elements = slide.get('pageElements', [])\n",
        "        title_id, body_id = None, None\n",
        "\n",
        "        for element in page_elements:\n",
        "            if 'placeholder' in element.get('shape', {}):\n",
        "                placeholder_type = element['shape']['placeholder']['type']\n",
        "                if placeholder_type == 'TITLE':\n",
        "                    title_id = element['objectId']\n",
        "                elif placeholder_type == 'BODY':\n",
        "                    body_id = element['objectId']\n",
        "\n",
        "        if not title_id or not body_id:\n",
        "            print(f\"Slide elements for debugging: {page_elements}\")\n",
        "            print(f\"Title ID: {title_id}, Body ID: {body_id}\")\n",
        "            raise ValueError(\"Could not find title or body text boxes on the slide.\")\n",
        "\n",
        "        print(f\"Title ID: {title_id}, Body ID: {body_id}\")\n",
        "\n",
        "        # Step 4: Insert text into title and body text boxes\n",
        "        insert_text_requests = [\n",
        "            {\n",
        "                'insertText': {\n",
        "                    'objectId': title_id,\n",
        "                    'text': event_title\n",
        "                }\n",
        "            },\n",
        "            {\n",
        "                'insertText': {\n",
        "                    'objectId': body_id,\n",
        "                    'text': f\"Time: {event_time}\\nLocation: {event_location}\"\n",
        "                }\n",
        "            }\n",
        "        ]\n",
        "\n",
        "        slides_service.presentations().batchUpdate(\n",
        "            presentationId=presentation_id,\n",
        "            body={'requests': insert_text_requests}\n",
        "        ).execute()\n",
        "\n",
        "        print(f\"Event {idx} added successfully to the slide.\")\n",
        "\n",
        "    print(f\"All events added to presentation {presentation_id}.\")\n",
        "\n",
        "\n",
        "    # Get the total number of slides in the presentation\n",
        "    #presentation = slides_service.presentations().get(presentationId=presentation_id).execute()\n",
        "    #num_slides = len(presentation.get('slides', []))\n",
        "\n",
        "    #for event in events:\n",
        "        # ... (rest of the code remains the same) ...\n",
        "\n",
        "        # Create a new slide for the event using TITLE_AND_BODY layout\n",
        "        #requests = [\n",
        "            #{\n",
        "                #'createSlide': {\n",
        "                    #'objectId': event['id'],  # Assuming 'id' is a unique identifier for the event\n",
        "                    #'insertionIndex': num_slides,  # Use the total number of slides as the insertion index\n",
        "                    #'slideLayoutReference': {\n",
        "                        #'predefinedLayout': 'TITLE_AND_BODY'  # Use the most common predefined layout\n",
        "                    #}\n",
        "                #}\n",
        "            #}\n",
        "        #]\n",
        "\n",
        "        #response = slides_service.presentations().batchUpdate(\n",
        "            #presentationId=presentation_id, body={'requests': requests}\n",
        "        #).execute()"
      ],
      "metadata": {
        "id": "bAuOsCo7LaR0"
      },
      "execution_count": null,
      "outputs": []
    },
    {
      "cell_type": "code",
      "source": [
        "# Main Application Logic\n",
        "if __name__ == \"__main__\":\n",
        "    # Fetch upcoming events\n",
        "    events = get_upcoming_events(credentials)\n",
        "\n",
        "    # Create a new Google Slides presentation\n",
        "    if events:\n",
        "        presentation_id = create_presentation(credentials, title=\"Upcoming Events Presentation\")\n",
        "\n",
        "        # Add slides for the events\n",
        "    add_event_slides(credentials, presentation_id, events)\n",
        "else:\n",
        "      print(\"No events to add to the presentation.\")\n"
      ],
      "metadata": {
        "colab": {
          "base_uri": "https://localhost:8080/"
        },
        "id": "jDK5nqWDLOla",
        "outputId": "56bc5e8c-23d8-42c8-ffc0-f409254959b8",
        "collapsed": true
      },
      "execution_count": null,
      "outputs": [
        {
          "output_type": "stream",
          "name": "stdout",
          "text": [
            "Upcoming Events:\n",
            "Event: Member Meetup, Start: 2024-12-04T09:30:00-06:00, Location: 535 Duane St, Glen Ellyn, IL 60137, USA\n",
            "Event: Member Meetup, Start: 2024-12-18T09:30:00-06:00, Location: 535 Duane St, Glen Ellyn, IL 60137, USA\n",
            "Event: Member Meetup, Start: 2025-01-08T09:30:00-06:00, Location: 535 Duane St, Glen Ellyn, IL 60137, USA\n",
            "Event: Member Meetup, Start: 2025-01-22T09:30:00-06:00, Location: 535 Duane St, Glen Ellyn, IL 60137, USA\n",
            "Event: Member Meetup, Start: 2025-02-05T09:30:00-06:00, Location: 535 Duane St, Glen Ellyn, IL 60137, USA\n",
            "Event: Member Meetup, Start: 2025-02-19T09:30:00-06:00, Location: 535 Duane St, Glen Ellyn, IL 60137, USA\n",
            "Event: Member Meetup, Start: 2025-03-05T09:30:00-06:00, Location: 535 Duane St, Glen Ellyn, IL 60137, USA\n",
            "Event: Member Meetup, Start: 2025-03-19T09:30:00-05:00, Location: 535 Duane St, Glen Ellyn, IL 60137, USA\n",
            "Event: Member Meetup, Start: 2025-04-02T09:30:00-05:00, Location: 535 Duane St, Glen Ellyn, IL 60137, USA\n",
            "Event: Member Meetup, Start: 2025-04-16T09:30:00-05:00, Location: 535 Duane St, Glen Ellyn, IL 60137, USA\n",
            "Created presentation with ID: 1I3XRSJOmTawCOr_G4hcopSBxdMrKjp3FXvS_rwUWA_8\n",
            "Processing Event 1: Member Meetup at 2024-12-04T09:30:00-06:00, Location: 535 Duane St, Glen Ellyn, IL 60137, USA\n",
            "Slide created with Object ID: SLIDES_API1096546793_0\n",
            "Title ID: SLIDES_API1096546793_1, Body ID: SLIDES_API1096546793_2\n",
            "Event 1 added successfully to the slide.\n",
            "Processing Event 2: Member Meetup at 2024-12-18T09:30:00-06:00, Location: 535 Duane St, Glen Ellyn, IL 60137, USA\n",
            "Slide created with Object ID: SLIDES_API387463986_0\n",
            "Title ID: SLIDES_API387463986_1, Body ID: SLIDES_API387463986_2\n",
            "Event 2 added successfully to the slide.\n",
            "Processing Event 3: Member Meetup at 2025-01-08T09:30:00-06:00, Location: 535 Duane St, Glen Ellyn, IL 60137, USA\n",
            "Slide created with Object ID: SLIDES_API641867271_0\n",
            "Title ID: SLIDES_API641867271_1, Body ID: SLIDES_API641867271_2\n",
            "Event 3 added successfully to the slide.\n",
            "Processing Event 4: Member Meetup at 2025-01-22T09:30:00-06:00, Location: 535 Duane St, Glen Ellyn, IL 60137, USA\n",
            "Slide created with Object ID: SLIDES_API2076895186_0\n",
            "Title ID: SLIDES_API2076895186_1, Body ID: SLIDES_API2076895186_2\n",
            "Event 4 added successfully to the slide.\n",
            "Processing Event 5: Member Meetup at 2025-02-05T09:30:00-06:00, Location: 535 Duane St, Glen Ellyn, IL 60137, USA\n",
            "Slide created with Object ID: SLIDES_API247010398_0\n",
            "Title ID: SLIDES_API247010398_1, Body ID: SLIDES_API247010398_2\n",
            "Event 5 added successfully to the slide.\n",
            "Processing Event 6: Member Meetup at 2025-02-19T09:30:00-06:00, Location: 535 Duane St, Glen Ellyn, IL 60137, USA\n",
            "Slide created with Object ID: SLIDES_API1230959142_0\n",
            "Title ID: SLIDES_API1230959142_1, Body ID: SLIDES_API1230959142_2\n",
            "Event 6 added successfully to the slide.\n",
            "Processing Event 7: Member Meetup at 2025-03-05T09:30:00-06:00, Location: 535 Duane St, Glen Ellyn, IL 60137, USA\n",
            "Slide created with Object ID: SLIDES_API663280312_0\n",
            "Title ID: SLIDES_API663280312_1, Body ID: SLIDES_API663280312_2\n",
            "Event 7 added successfully to the slide.\n",
            "Processing Event 8: Member Meetup at 2025-03-19T09:30:00-05:00, Location: 535 Duane St, Glen Ellyn, IL 60137, USA\n",
            "Slide created with Object ID: SLIDES_API1438427618_0\n",
            "Title ID: SLIDES_API1438427618_1, Body ID: SLIDES_API1438427618_2\n",
            "Event 8 added successfully to the slide.\n",
            "Processing Event 9: Member Meetup at 2025-04-02T09:30:00-05:00, Location: 535 Duane St, Glen Ellyn, IL 60137, USA\n",
            "Slide created with Object ID: SLIDES_API1902296910_0\n",
            "Title ID: SLIDES_API1902296910_1, Body ID: SLIDES_API1902296910_2\n",
            "Event 9 added successfully to the slide.\n",
            "Processing Event 10: Member Meetup at 2025-04-16T09:30:00-05:00, Location: 535 Duane St, Glen Ellyn, IL 60137, USA\n",
            "Slide created with Object ID: SLIDES_API800770940_0\n",
            "Title ID: SLIDES_API800770940_1, Body ID: SLIDES_API800770940_2\n",
            "Event 10 added successfully to the slide.\n",
            "All events added to presentation 1I3XRSJOmTawCOr_G4hcopSBxdMrKjp3FXvS_rwUWA_8.\n"
          ]
        }
      ]
    },
    {
      "source": [
        "!lsof -i :8080"
      ],
      "cell_type": "code",
      "metadata": {
        "colab": {
          "base_uri": "https://localhost:8080/"
        },
        "id": "z1pUIVVmFK9C",
        "outputId": "37fc6e1b-c3fe-4957-c901-59912c178133"
      },
      "execution_count": null,
      "outputs": [
        {
          "output_type": "stream",
          "name": "stdout",
          "text": [
            "COMMAND PID USER   FD   TYPE  DEVICE SIZE/OFF NODE NAME\n",
            "node      7 root   21u  IPv6  232620      0t0  TCP *:8080 (LISTEN)\n",
            "node      7 root   26u  IPv6  984101      0t0  TCP 00ba71296527:8080->172.28.0.1:33686 (ESTABLISHED)\n",
            "node      7 root   30u  IPv6 1048989      0t0  TCP 00ba71296527:8080->172.28.0.1:54744 (ESTABLISHED)\n",
            "node      7 root   38u  IPv6 1063889      0t0  TCP 00ba71296527:8080->172.28.0.1:51412 (ESTABLISHED)\n",
            "node      7 root   72u  IPv6 1049010      0t0  TCP 00ba71296527:8080->172.28.0.1:54756 (ESTABLISHED)\n",
            "node      7 root   96u  IPv6 1060707      0t0  TCP 00ba71296527:8080->172.28.0.1:35676 (ESTABLISHED)\n"
          ]
        }
      ]
    },
    {
      "cell_type": "code",
      "source": [
        "!kill 6"
      ],
      "metadata": {
        "id": "POGDmpZCFQYi",
        "colab": {
          "base_uri": "https://localhost:8080/"
        },
        "outputId": "14cc831f-ce47-4570-f8ba-aa94816c8eef"
      },
      "execution_count": null,
      "outputs": [
        {
          "output_type": "stream",
          "name": "stdout",
          "text": [
            "/bin/bash: line 1: kill: (6) - No such process\n"
          ]
        }
      ]
    }
  ],
  "metadata": {
    "colab": {
      "provenance": []
    },
    "kernelspec": {
      "display_name": "Python 3",
      "name": "python3"
    },
    "language_info": {
      "name": "python"
    }
  },
  "nbformat": 4,
  "nbformat_minor": 0
}