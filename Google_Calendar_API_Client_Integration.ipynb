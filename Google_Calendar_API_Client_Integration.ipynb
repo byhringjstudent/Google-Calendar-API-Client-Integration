{
  "nbformat": 4,
  "nbformat_minor": 0,
  "metadata": {
    "colab": {
      "provenance": [],
      "authorship_tag": "ABX9TyNX/Glo+HkgqfVrtbDTeaFv",
      "include_colab_link": true
    },
    "kernelspec": {
      "name": "python3",
      "display_name": "Python 3"
    },
    "language_info": {
      "name": "python"
    }
  },
  "cells": [
    {
      "cell_type": "markdown",
      "metadata": {
        "id": "view-in-github",
        "colab_type": "text"
      },
      "source": [
        "<a href=\"https://colab.research.google.com/github/byhringjstudent/Google-Calendar-API-Client-Integration/blob/main/Google_Calendar_API_Client_Integration.ipynb\" target=\"_parent\"><img src=\"https://colab.research.google.com/assets/colab-badge.svg\" alt=\"Open In Colab\"/></a>"
      ]
    },
    {
      "cell_type": "code",
      "source": [
        "# Google Calendar API enabled and Google Slides API enabled\n",
        "# Create credentials for authentication with the Google API\n",
        "# OAuth 2.0 Client ID Authentication - OAuth dance\n",
        "\n",
        "# To access and integrate cloud services with Web Services we will also\n",
        "# create a Service Account, which is useful for TCP and UDP Streamside server-to-server endpoint communication\n",
        "\n",
        "# In our code, we create the API Object\n",
        "calendar_service = build('calendar', 'v3', credentials=)\n",
        "\n",
        ")"
      ],
      "metadata": {
        "id": "tq8f6vvWN0Fm"
      },
      "execution_count": null,
      "outputs": []
    },
    {
      "cell_type": "code",
      "source": [
        "from googleapiclient.discovery import build\n",
        "from google_auth_oauthlib.flow import InstalledAppFlow\n",
        "import datetime\n",
        "\n",
        "# Define OAuth scopes\n",
        "SCOPES = ['https://www.googleapis.com/auth/calendar.readonly',\n",
        "          'https://www.googleapis.com/auth/presentations']\n",
        "\n",
        "# Authenticate and get credentials\n",
        "flow = InstalledAppFlow.from_client_secrets_file(\n",
        "    'path_to_your_client_secret.json', SCOPES)\n",
        "credentials = flow.run_local_server(port=0)\n",
        "\n",
        "# Initialize API clients\n",
        "calendar_service = build('calendar', 'v3', credentials=credentials)\n",
        "slides_service = build('slides', 'v1', credentials=credentials)\n",
        "\n",
        "# Fetch upcoming events\n",
        "events_result = calendar_service.events().list(calendarId='primary',\n",
        "                                               timeMin=datetime.datetime.utcnow().isoformat() + 'Z',\n",
        "                                               maxResults=10).execute()\n",
        "events = events_result.get('items', [])\n",
        "\n",
        "# Create a new presentation\n",
        "presentation = slides_service.presentations().create(body={'title': 'My Event Presentation'}).execute()\n",
        "presentation_id = presentation.get('presentationId')\n",
        "\n",
        "if not events:\n",
        "    print(\"No upcoming events found.\")\n",
        "else:\n",
        "    for event in events:\n",
        "        # Add a slide for each event\n",
        "        requests = [\n",
        "            {\n",
        "                'createSlide': {\n",
        "                    'slideLayoutReference': {\n",
        "                        'predefinedLayout': 'TITLE_AND_BODY'\n",
        "                    }\n",
        "                }\n",
        "            }\n",
        "        ]\n",
        "        # Add the slide\n",
        "        slides_service.presentations().batchUpdate(\n",
        "            presentationId=presentation_id,\n",
        "            body={'requests': requests}\n",
        "        ).execute()\n",
        "\n",
        "        # Insert event text\n",
        "        summary = event.get('summary', 'No Title')\n",
        "        requests = [\n",
        "            {\n",
        "                'insertText': {\n",
        "                    'objectId': 'Title_1',\n",
        "                    'text': summary\n",
        "                }\n",
        "            }\n",
        "        ]\n",
        "        slides_service.presentations().batchUpdate(\n",
        "            presentationId=presentation_id,\n",
        "            body={'requests': requests}\n",
        "        ).execute()\n",
        "\n",
        "print(f\"Presentation created with ID: {presentation_id}\")\n"
      ],
      "metadata": {
        "colab": {
          "base_uri": "https://localhost:8080/",
          "height": 368
        },
        "id": "y8tGbDoUep88",
        "outputId": "964cdf4c-c3dd-4fe5-d357-143d5f4a0e27",
        "collapsed": true
      },
      "execution_count": null,
      "outputs": [
        {
          "output_type": "error",
          "ename": "FileNotFoundError",
          "evalue": "[Errno 2] No such file or directory: 'path_to_your_client_secret.json'",
          "traceback": [
            "\u001b[0;31m---------------------------------------------------------------------------\u001b[0m",
            "\u001b[0;31mFileNotFoundError\u001b[0m                         Traceback (most recent call last)",
            "\u001b[0;32m<ipython-input-6-3bc214f1aad9>\u001b[0m in \u001b[0;36m<cell line: 10>\u001b[0;34m()\u001b[0m\n\u001b[1;32m      8\u001b[0m \u001b[0;34m\u001b[0m\u001b[0m\n\u001b[1;32m      9\u001b[0m \u001b[0;31m# Authenticate and get credentials\u001b[0m\u001b[0;34m\u001b[0m\u001b[0;34m\u001b[0m\u001b[0m\n\u001b[0;32m---> 10\u001b[0;31m flow = InstalledAppFlow.from_client_secrets_file(\n\u001b[0m\u001b[1;32m     11\u001b[0m     'path_to_your_client_secret.json', SCOPES)\n\u001b[1;32m     12\u001b[0m \u001b[0mcredentials\u001b[0m \u001b[0;34m=\u001b[0m \u001b[0mflow\u001b[0m\u001b[0;34m.\u001b[0m\u001b[0mrun_local_server\u001b[0m\u001b[0;34m(\u001b[0m\u001b[0mport\u001b[0m\u001b[0;34m=\u001b[0m\u001b[0;36m0\u001b[0m\u001b[0;34m)\u001b[0m\u001b[0;34m\u001b[0m\u001b[0;34m\u001b[0m\u001b[0m\n",
            "\u001b[0;32m/usr/local/lib/python3.10/dist-packages/google_auth_oauthlib/flow.py\u001b[0m in \u001b[0;36mfrom_client_secrets_file\u001b[0;34m(cls, client_secrets_file, scopes, **kwargs)\u001b[0m\n\u001b[1;32m    196\u001b[0m             \u001b[0mFlow\u001b[0m\u001b[0;34m:\u001b[0m \u001b[0mThe\u001b[0m \u001b[0mconstructed\u001b[0m \u001b[0mFlow\u001b[0m \u001b[0minstance\u001b[0m\u001b[0;34m.\u001b[0m\u001b[0;34m\u001b[0m\u001b[0;34m\u001b[0m\u001b[0m\n\u001b[1;32m    197\u001b[0m         \"\"\"\n\u001b[0;32m--> 198\u001b[0;31m         \u001b[0;32mwith\u001b[0m \u001b[0mopen\u001b[0m\u001b[0;34m(\u001b[0m\u001b[0mclient_secrets_file\u001b[0m\u001b[0;34m,\u001b[0m \u001b[0;34m\"r\"\u001b[0m\u001b[0;34m)\u001b[0m \u001b[0;32mas\u001b[0m \u001b[0mjson_file\u001b[0m\u001b[0;34m:\u001b[0m\u001b[0;34m\u001b[0m\u001b[0;34m\u001b[0m\u001b[0m\n\u001b[0m\u001b[1;32m    199\u001b[0m             \u001b[0mclient_config\u001b[0m \u001b[0;34m=\u001b[0m \u001b[0mjson\u001b[0m\u001b[0;34m.\u001b[0m\u001b[0mload\u001b[0m\u001b[0;34m(\u001b[0m\u001b[0mjson_file\u001b[0m\u001b[0;34m)\u001b[0m\u001b[0;34m\u001b[0m\u001b[0;34m\u001b[0m\u001b[0m\n\u001b[1;32m    200\u001b[0m \u001b[0;34m\u001b[0m\u001b[0m\n",
            "\u001b[0;31mFileNotFoundError\u001b[0m: [Errno 2] No such file or directory: 'path_to_your_client_secret.json'"
          ]
        }
      ]
    },
    {
      "cell_type": "code",
      "source": [
        "from googleapiclient.discovery import build\n",
        "from google_auth_oauthlib.flow import InstalledAppFlow\n",
        "import datetime"
      ],
      "metadata": {
        "id": "D_CmbyRyes50"
      },
      "execution_count": null,
      "outputs": []
    },
    {
      "cell_type": "code",
      "source": [
        "# Define OAuth scopes\n",
        "SCOPES = ['https://www.googleapis.com/auth/calendar.readonly',\n",
        "          'https://www.googleapis.com/auth/presentations']"
      ],
      "metadata": {
        "id": "nuFKCH9Hex9u"
      },
      "execution_count": null,
      "outputs": []
    },
    {
      "source": [
        "!pip install --upgrade google-api-python-client google-auth-httplib2 google-auth-oauthlib"
      ],
      "cell_type": "code",
      "metadata": {
        "colab": {
          "base_uri": "https://localhost:8080/",
          "height": 723
        },
        "collapsed": true,
        "id": "p9mH_XpyghH7",
        "outputId": "757ea961-7e81-4399-eca5-402e7b90395d"
      },
      "execution_count": 20,
      "outputs": [
        {
          "output_type": "stream",
          "name": "stdout",
          "text": [
            "Requirement already satisfied: google-api-python-client in /usr/local/lib/python3.10/dist-packages (2.151.0)\n",
            "Collecting google-api-python-client\n",
            "  Downloading google_api_python_client-2.153.0-py2.py3-none-any.whl.metadata (6.7 kB)\n",
            "Requirement already satisfied: google-auth-httplib2 in /usr/local/lib/python3.10/dist-packages (0.2.0)\n",
            "Requirement already satisfied: google-auth-oauthlib in /usr/local/lib/python3.10/dist-packages (1.2.1)\n",
            "Requirement already satisfied: httplib2<1.dev0,>=0.19.0 in /usr/local/lib/python3.10/dist-packages (from google-api-python-client) (0.22.0)\n",
            "Requirement already satisfied: google-auth!=2.24.0,!=2.25.0,<3.0.0.dev0,>=1.32.0 in /usr/local/lib/python3.10/dist-packages (from google-api-python-client) (2.27.0)\n",
            "Requirement already satisfied: google-api-core!=2.0.*,!=2.1.*,!=2.2.*,!=2.3.0,<3.0.0.dev0,>=1.31.5 in /usr/local/lib/python3.10/dist-packages (from google-api-python-client) (2.19.2)\n",
            "Requirement already satisfied: uritemplate<5,>=3.0.1 in /usr/local/lib/python3.10/dist-packages (from google-api-python-client) (4.1.1)\n",
            "Requirement already satisfied: requests-oauthlib>=0.7.0 in /usr/local/lib/python3.10/dist-packages (from google-auth-oauthlib) (1.3.1)\n",
            "Requirement already satisfied: googleapis-common-protos<2.0.dev0,>=1.56.2 in /usr/local/lib/python3.10/dist-packages (from google-api-core!=2.0.*,!=2.1.*,!=2.2.*,!=2.3.0,<3.0.0.dev0,>=1.31.5->google-api-python-client) (1.66.0)\n",
            "Requirement already satisfied: protobuf!=3.20.0,!=3.20.1,!=4.21.0,!=4.21.1,!=4.21.2,!=4.21.3,!=4.21.4,!=4.21.5,<6.0.0.dev0,>=3.19.5 in /usr/local/lib/python3.10/dist-packages (from google-api-core!=2.0.*,!=2.1.*,!=2.2.*,!=2.3.0,<3.0.0.dev0,>=1.31.5->google-api-python-client) (4.25.5)\n",
            "Requirement already satisfied: proto-plus<2.0.0dev,>=1.22.3 in /usr/local/lib/python3.10/dist-packages (from google-api-core!=2.0.*,!=2.1.*,!=2.2.*,!=2.3.0,<3.0.0.dev0,>=1.31.5->google-api-python-client) (1.25.0)\n",
            "Requirement already satisfied: requests<3.0.0.dev0,>=2.18.0 in /usr/local/lib/python3.10/dist-packages (from google-api-core!=2.0.*,!=2.1.*,!=2.2.*,!=2.3.0,<3.0.0.dev0,>=1.31.5->google-api-python-client) (2.32.3)\n",
            "Requirement already satisfied: cachetools<6.0,>=2.0.0 in /usr/local/lib/python3.10/dist-packages (from google-auth!=2.24.0,!=2.25.0,<3.0.0.dev0,>=1.32.0->google-api-python-client) (5.5.0)\n",
            "Requirement already satisfied: pyasn1-modules>=0.2.1 in /usr/local/lib/python3.10/dist-packages (from google-auth!=2.24.0,!=2.25.0,<3.0.0.dev0,>=1.32.0->google-api-python-client) (0.4.1)\n",
            "Requirement already satisfied: rsa<5,>=3.1.4 in /usr/local/lib/python3.10/dist-packages (from google-auth!=2.24.0,!=2.25.0,<3.0.0.dev0,>=1.32.0->google-api-python-client) (4.9)\n",
            "Requirement already satisfied: pyparsing!=3.0.0,!=3.0.1,!=3.0.2,!=3.0.3,<4,>=2.4.2 in /usr/local/lib/python3.10/dist-packages (from httplib2<1.dev0,>=0.19.0->google-api-python-client) (3.2.0)\n",
            "Requirement already satisfied: oauthlib>=3.0.0 in /usr/local/lib/python3.10/dist-packages (from requests-oauthlib>=0.7.0->google-auth-oauthlib) (3.2.2)\n",
            "Requirement already satisfied: pyasn1<0.7.0,>=0.4.6 in /usr/local/lib/python3.10/dist-packages (from pyasn1-modules>=0.2.1->google-auth!=2.24.0,!=2.25.0,<3.0.0.dev0,>=1.32.0->google-api-python-client) (0.6.1)\n",
            "Requirement already satisfied: charset-normalizer<4,>=2 in /usr/local/lib/python3.10/dist-packages (from requests<3.0.0.dev0,>=2.18.0->google-api-core!=2.0.*,!=2.1.*,!=2.2.*,!=2.3.0,<3.0.0.dev0,>=1.31.5->google-api-python-client) (3.4.0)\n",
            "Requirement already satisfied: idna<4,>=2.5 in /usr/local/lib/python3.10/dist-packages (from requests<3.0.0.dev0,>=2.18.0->google-api-core!=2.0.*,!=2.1.*,!=2.2.*,!=2.3.0,<3.0.0.dev0,>=1.31.5->google-api-python-client) (3.10)\n",
            "Requirement already satisfied: urllib3<3,>=1.21.1 in /usr/local/lib/python3.10/dist-packages (from requests<3.0.0.dev0,>=2.18.0->google-api-core!=2.0.*,!=2.1.*,!=2.2.*,!=2.3.0,<3.0.0.dev0,>=1.31.5->google-api-python-client) (2.2.3)\n",
            "Requirement already satisfied: certifi>=2017.4.17 in /usr/local/lib/python3.10/dist-packages (from requests<3.0.0.dev0,>=2.18.0->google-api-core!=2.0.*,!=2.1.*,!=2.2.*,!=2.3.0,<3.0.0.dev0,>=1.31.5->google-api-python-client) (2024.8.30)\n",
            "Downloading google_api_python_client-2.153.0-py2.py3-none-any.whl (12.6 MB)\n",
            "\u001b[2K   \u001b[90m━━━━━━━━━━━━━━━━━━━━━━━━━━━━━━━━━━━━━━━━\u001b[0m \u001b[32m12.6/12.6 MB\u001b[0m \u001b[31m57.2 MB/s\u001b[0m eta \u001b[36m0:00:00\u001b[0m\n",
            "\u001b[?25hInstalling collected packages: google-api-python-client\n",
            "  Attempting uninstall: google-api-python-client\n",
            "    Found existing installation: google-api-python-client 2.151.0\n",
            "    Uninstalling google-api-python-client-2.151.0:\n",
            "      Successfully uninstalled google-api-python-client-2.151.0\n",
            "Successfully installed google-api-python-client-2.153.0\n"
          ]
        },
        {
          "output_type": "display_data",
          "data": {
            "application/vnd.colab-display-data+json": {
              "pip_warning": {
                "packages": [
                  "googleapiclient"
                ]
              },
              "id": "238312323316407f8e6d7ece09842b35"
            }
          },
          "metadata": {}
        }
      ]
    },
    {
      "source": [
        "# Define OAuth scopes\n",
        "SCOPES = ['https://www.googleapis.com/auth/calendar.readonly',\n",
        "             'https://www.googleapis.com/auth/presentations']\n"
      ],
      "cell_type": "code",
      "metadata": {
        "id": "ADBiBptGfu85"
      },
      "execution_count": 2,
      "outputs": []
    },
    {
      "cell_type": "code",
      "source": [
        "from google_auth_oauthlib.flow import InstalledAppFlow\n",
        "\n",
        "# Authenticate and get credentials\n",
        "flow = InstalledAppFlow.from_client_secrets_file(\n",
        "      'client_secret.json', SCOPES)"
      ],
      "metadata": {
        "id": "xDuuimNVgvdE"
      },
      "execution_count": 5,
      "outputs": []
    },
    {
      "cell_type": "code",
      "source": [
        "# Get Authorization URL\n",
        "auth_url, _ = flow.authorization_url(prompt='consent')\n",
        "print('Please go to this URL and authorize the application:', auth_url)"
      ],
      "metadata": {
        "colab": {
          "base_uri": "https://localhost:8080/"
        },
        "id": "4GpioHDXg-dg",
        "outputId": "60d3fcb6-91ab-48d6-ee24-5d7b5bbf903f"
      },
      "execution_count": 6,
      "outputs": [
        {
          "output_type": "stream",
          "name": "stdout",
          "text": [
            "Please go to this URL and authorize the application: https://accounts.google.com/o/oauth2/auth?response_type=code&client_id=36867565727-jk71o7jtu1rbn68kv0kt2qi4l2cpkfnv.apps.googleusercontent.com&scope=https%3A%2F%2Fwww.googleapis.com%2Fauth%2Fcalendar.readonly+https%3A%2F%2Fwww.googleapis.com%2Fauth%2Fpresentations&state=dOZkQMNoJbufGydIQAtOumjOcyBvSI&prompt=consent&access_type=offline\n"
          ]
        }
      ]
    },
    {
      "cell_type": "code",
      "source": [],
      "metadata": {
        "id": "11RkPjTAgxzn"
      },
      "execution_count": null,
      "outputs": []
    },
    {
      "source": [
        "# Get Authorization URL\n",
        "auth_url, _ = flow.authorization_url(prompt='consent')\n",
        "print('Please go to this URL and authorize the application:', auth_url)\n",
        "\n",
        "# ... Open the URL in your browser, authorize the app, and copy the authorization code\n",
        "\n",
        "# Paste the authorization code\n",
        "code = input('Enter the authorization code: ')\n",
        "\n",
        "# Exchange the code for credentials\n",
        "flow.fetch_token(code=code)\n",
        "credentials = flow.credentials"
      ],
      "cell_type": "code",
      "metadata": {
        "colab": {
          "base_uri": "https://localhost:8080/"
        },
        "id": "i0wbsgHeiBdm",
        "outputId": "f0bc0256-d673-49b2-d78e-80d2b15ccfb0"
      },
      "execution_count": null,
      "outputs": [
        {
          "output_type": "stream",
          "name": "stdout",
          "text": [
            "Please go to this URL and authorize the application: https://accounts.google.com/o/oauth2/auth?response_type=code&client_id=36867565727-jk71o7jtu1rbn68kv0kt2qi4l2cpkfnv.apps.googleusercontent.com&redirect_uri=http%3A%2F%2Flocalhost%3A8000%2F&scope=https%3A%2F%2Fwww.googleapis.com%2Fauth%2Fcalendar.readonly+https%3A%2F%2Fwww.googleapis.com%2Fauth%2Fpresentations&state=byIbyRFhMkSuO3krkY1CbpOAA89dDr&prompt=consent&access_type=offline\n"
          ]
        }
      ]
    }
  ]
}